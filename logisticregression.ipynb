{
 "cells": [
  {
   "cell_type": "code",
   "execution_count": 7,
   "metadata": {},
   "outputs": [
    {
     "name": "stdout",
     "output_type": "stream",
     "text": [
      "Number of rows in DataFrame after dropping NaNs: 44432\n",
      "Shape of X: (44432, 5000)\n",
      "Number of labels (y): 44432\n",
      "Shape of y_encoded: (44432,)\n",
      "Starting Logistic Regression training...\n",
      "Logistic Regression training completed.\n",
      "Training time: 1.35 seconds\n",
      "Accuracy: 96.25%\n",
      "              precision    recall  f1-score   support\n",
      "\n",
      "    Democrat       0.97      0.96      0.96      4485\n",
      "  Republican       0.96      0.97      0.96      4402\n",
      "\n",
      "    accuracy                           0.96      8887\n",
      "   macro avg       0.96      0.96      0.96      8887\n",
      "weighted avg       0.96      0.96      0.96      8887\n",
      "\n",
      "Confusion Matrix:\n",
      "[[4286  199]\n",
      " [ 134 4268]]\n"
     ]
    }
   ],
   "source": [
    "import numpy as np\n",
    "import pandas as pd\n",
    "from sklearn.model_selection import train_test_split\n",
    "from sklearn.linear_model import LogisticRegression\n",
    "from sklearn.metrics import accuracy_score, classification_report, confusion_matrix\n",
    "from sklearn.preprocessing import LabelEncoder\n",
    "import time\n",
    "from sklearn.feature_extraction.text import TfidfVectorizer\n",
    "\n",
    "# Load your DataFrame\n",
    "df = pd.read_csv('PreprocessedDataset.csv')  \n",
    "\n",
    "# Drop rows with missing labels in 'Party' and missing text in 'preprocessed_tweet', then reset index\n",
    "df = df.dropna(subset=['Party', 'preprocessed_tweet']).reset_index(drop=True)\n",
    "\n",
    "# Check the shape of the DataFrame after dropping NaN values\n",
    "print(f\"Number of rows in DataFrame after dropping NaNs: {len(df)}\")\n",
    "\n",
    "# Get the labels and ensure they are in the correct format\n",
    "y = df['Party'].values  # Extract labels as a numpy array\n",
    "\n",
    "# Convert the 'preprocessed_tweet' column to strings, if not already\n",
    "df['preprocessed_tweet'] = df['preprocessed_tweet'].apply(lambda x: str(x))\n",
    "\n",
    "# Initialize the TF-IDF Vectorizer\n",
    "tfidf_vectorizer = TfidfVectorizer(max_features=5000, ngram_range=(1, 2), lowercase=True)  # Set max features to 1000\n",
    "X = tfidf_vectorizer.fit_transform(df['preprocessed_tweet']).toarray()  # Use the 'preprocessed_tweet' column for TF-IDF\n",
    "\n",
    "# Check the shapes\n",
    "print(\"Shape of X:\", X.shape)\n",
    "print(\"Number of labels (y):\", len(y))\n",
    "\n",
    "# Encode labels to numeric values\n",
    "label_encoder = LabelEncoder()\n",
    "y_encoded = label_encoder.fit_transform(y)\n",
    "\n",
    "# Check the shape of the labels after encoding\n",
    "print(\"Shape of y_encoded:\", y_encoded.shape)\n",
    "\n",
    "# Ensure that the number of samples match before splitting\n",
    "if X.shape[0] != len(y_encoded):\n",
    "    print(\"Error: Inconsistent number of samples.\")\n",
    "else:\n",
    "    # Split data into training and testing sets (80% training, 20% testing)\n",
    "    X_train, X_test, y_train, y_test = train_test_split(X, y_encoded, test_size=0.2, random_state=42)\n",
    "\n",
    "    # Initialize the Logistic Regression classifier\n",
    "    logistic_classifier = LogisticRegression(max_iter=3000)\n",
    "\n",
    "    # Start timing the training process\n",
    "    start_time = time.time()\n",
    "\n",
    "    print(\"Starting Logistic Regression training...\")\n",
    "    logistic_classifier.fit(X_train, y_train)\n",
    "    print(\"Logistic Regression training completed.\")\n",
    "\n",
    "    # End timing\n",
    "    end_time = time.time()\n",
    "\n",
    "    # Calculate training time\n",
    "    training_time = end_time - start_time\n",
    "    print(f\"Training time: {training_time:.2f} seconds\")\n",
    "\n",
    "    # Make predictions on the test set\n",
    "    y_pred = logistic_classifier.predict(X_test)\n",
    "\n",
    "    # Evaluate the model\n",
    "    accuracy = accuracy_score(y_test, y_pred)\n",
    "    print(f\"Accuracy: {accuracy * 100:.2f}%\")\n",
    "\n",
    "    # Print detailed classification report\n",
    "    print(classification_report(y_test, y_pred, target_names=label_encoder.classes_))\n",
    "    \n",
    "    # Compute and print the confusion matrix\n",
    "    cm = confusion_matrix(y_test, y_pred)\n",
    "    print(\"Confusion Matrix:\")\n",
    "    print(cm)\n"
   ]
  },
  {
   "cell_type": "code",
   "execution_count": 8,
   "metadata": {},
   "outputs": [
    {
     "name": "stdout",
     "output_type": "stream",
     "text": [
      "Model, TF-IDF vectorizer, and label encoder saved successfully.\n"
     ]
    }
   ],
   "source": [
    "import joblib\n",
    "\n",
    "# Save the trained model and the TF-IDF vectorizer\n",
    "joblib.dump(logistic_classifier, 'logistic_model.pkl')\n",
    "joblib.dump(tfidf_vectorizer, 'logistictfidf_vectorizer.pkl')\n",
    "joblib.dump(label_encoder, 'logisticlabel_encoder.pkl')\n",
    "\n",
    "print(\"Model, TF-IDF vectorizer, and label encoder saved successfully.\")\n"
   ]
  },
  {
   "cell_type": "code",
   "execution_count": 9,
   "metadata": {},
   "outputs": [
    {
     "name": "stdout",
     "output_type": "stream",
     "text": [
      "Predicted Party: Republican\n"
     ]
    }
   ],
   "source": [
    "# Load the trained model and TF-IDF vectorizer\n",
    "import joblib\n",
    "logistic_classifier = joblib.load('logistic_model.pkl')\n",
    "tfidf_vectorizer = joblib.load('logistictfidf_vectorizer.pkl')\n",
    "label_encoder = joblib.load('logisticlabel_encoder.pkl')\n",
    "\n",
    "# Example function for manual prediction\n",
    "def predict_party(tweet):\n",
    "    # Preprocess the tweet text using the loaded TF-IDF vectorizer\n",
    "    tweet_transformed = tfidf_vectorizer.transform([tweet]).toarray()\n",
    "\n",
    "    # Predict using the loaded model\n",
    "    prediction_encoded = logistic_classifier.predict(tweet_transformed)\n",
    "\n",
    "    # Decode the prediction back to the original label\n",
    "    prediction = label_encoder.inverse_transform(prediction_encoded)\n",
    "\n",
    "    return prediction[0]\n",
    "\n",
    "# Test the function\n",
    "sample_tweet = \"I believe in the importance of limited government, personal responsibility, and a strong national defense.\"\n",
    "predicted_party = predict_party(sample_tweet)\n",
    "print(f\"Predicted Party: {predicted_party}\")\n"
   ]
  }
 ],
 "metadata": {
  "kernelspec": {
   "display_name": "base",
   "language": "python",
   "name": "python3"
  },
  "language_info": {
   "codemirror_mode": {
    "name": "ipython",
    "version": 3
   },
   "file_extension": ".py",
   "mimetype": "text/x-python",
   "name": "python",
   "nbconvert_exporter": "python",
   "pygments_lexer": "ipython3",
   "version": "3.12.3"
  }
 },
 "nbformat": 4,
 "nbformat_minor": 2
}
