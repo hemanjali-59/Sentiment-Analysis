{
 "cells": [
  {
   "cell_type": "code",
   "execution_count": 6,
   "metadata": {},
   "outputs": [
    {
     "name": "stdout",
     "output_type": "stream",
     "text": [
      "Accuracy: 96.39%\n",
      "Classification Report:\n",
      "              precision    recall  f1-score   support\n",
      "\n",
      "           0       0.97      0.96      0.96      4452\n",
      "           1       0.96      0.97      0.96      4437\n",
      "\n",
      "    accuracy                           0.96      8889\n",
      "   macro avg       0.96      0.96      0.96      8889\n",
      "weighted avg       0.96      0.96      0.96      8889\n",
      "\n",
      "Confusion Matrix:\n",
      "[[4253  199]\n",
      " [ 122 4315]]\n"
     ]
    }
   ],
   "source": [
    "import numpy as np\n",
    "import pandas as pd\n",
    "from sklearn.model_selection import train_test_split\n",
    "from sklearn.ensemble import RandomForestClassifier\n",
    "from sklearn.metrics import accuracy_score, classification_report, confusion_matrix\n",
    "from sklearn.feature_extraction.text import TfidfVectorizer\n",
    "from sklearn.preprocessing import LabelEncoder\n",
    "\n",
    "# Load the preprocessed dataset\n",
    "df = pd.read_csv('PreprocessedDataset.csv')\n",
    "\n",
    "# Encode labels\n",
    "label_encoder = LabelEncoder()\n",
    "df['Party'] = label_encoder.fit_transform(df['Party'])\n",
    "\n",
    "# Clean data: fill or drop missing values in the 'preprocessed_tweet' column\n",
    "df['preprocessed_tweet'] = df['preprocessed_tweet'].fillna('')\n",
    "\n",
    "# Split data into features and target\n",
    "X = df['preprocessed_tweet']\n",
    "y = df['Party']\n",
    "\n",
    "# Split into training and testing sets\n",
    "X_train, X_test, y_train, y_test = train_test_split(X, y, test_size=0.2, random_state=42)\n",
    "\n",
    "# Vectorize the text data using TF-IDF\n",
    "vectorizer = TfidfVectorizer(max_features=5000)  # Adjust max_features as needed\n",
    "X_train_tfidf = vectorizer.fit_transform(X_train)\n",
    "X_test_tfidf = vectorizer.transform(X_test)\n",
    "\n",
    "# Initialize and train the Random Forest Classifier\n",
    "rf_model = RandomForestClassifier(n_estimators=100, random_state=42)\n",
    "rf_model.fit(X_train_tfidf, y_train)\n",
    "\n",
    "# Predict and evaluate\n",
    "y_pred = rf_model.predict(X_test_tfidf)\n",
    "accuracy = accuracy_score(y_test, y_pred)\n",
    "\n",
    "print(f\"Accuracy: {accuracy*100:.2f}%\")\n",
    "print(\"Classification Report:\")\n",
    "print(classification_report(y_test, y_pred, labels=np.unique(y_test)))\n",
    "\n",
    "# Compute and print the confusion matrix\n",
    "cm = confusion_matrix(y_test, y_pred)\n",
    "print(\"Confusion Matrix:\")\n",
    "print(cm)\n"
   ]
  },
  {
   "cell_type": "code",
   "execution_count": 7,
   "metadata": {},
   "outputs": [
    {
     "name": "stdout",
     "output_type": "stream",
     "text": [
      "Model, vectorizer, and label encoder saved successfully.\n"
     ]
    }
   ],
   "source": [
    "import joblib\n",
    "\n",
    "# Save the trained Random Forest model, vectorizer, and label encoder\n",
    "joblib.dump(rf_model, 'random_forest_model.joblib')       \n",
    "joblib.dump(vectorizer, 'RFvectorizer.joblib')              \n",
    "joblib.dump(label_encoder, 'RFlabel_encoder.joblib')  \n",
    "\n",
    "print(\"Model, vectorizer, and label encoder saved successfully.\")\n"
   ]
  },
  {
   "cell_type": "code",
   "execution_count": 8,
   "metadata": {},
   "outputs": [
    {
     "name": "stdout",
     "output_type": "stream",
     "text": [
      "Prediction for sample tweet: Republican\n"
     ]
    }
   ],
   "source": [
    "import joblib\n",
    "\n",
    "# Load the trained Random Forest model, vectorizer, and label encoder\n",
    "rf_model = joblib.load('random_forest_model.joblib')\n",
    "vectorizer = joblib.load('RFvectorizer.joblib')\n",
    "label_encoder = joblib.load('RFlabel_encoder.joblib')\n",
    "\n",
    "# Prediction function for a new tweet\n",
    "def predict_party(tweet):\n",
    "    tweet_tfidf = vectorizer.transform([tweet])\n",
    "    prediction = rf_model.predict(tweet_tfidf)\n",
    "    return label_encoder.inverse_transform(prediction)[0]\n",
    "\n",
    "# Test the prediction function\n",
    "sample_tweet = \"I believe in the importance of limited government, personal responsibility, and a strong national defense.\"\n",
    "print(f\"Prediction for sample tweet: {predict_party(sample_tweet)}\")\n"
   ]
  }
 ],
 "metadata": {
  "kernelspec": {
   "display_name": "base",
   "language": "python",
   "name": "python3"
  },
  "language_info": {
   "codemirror_mode": {
    "name": "ipython",
    "version": 3
   },
   "file_extension": ".py",
   "mimetype": "text/x-python",
   "name": "python",
   "nbconvert_exporter": "python",
   "pygments_lexer": "ipython3",
   "version": "3.12.3"
  }
 },
 "nbformat": 4,
 "nbformat_minor": 2
}
